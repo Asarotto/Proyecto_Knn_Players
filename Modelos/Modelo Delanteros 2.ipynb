{
 "cells": [
  {
   "cell_type": "code",
   "execution_count": 56,
   "metadata": {},
   "outputs": [],
   "source": [
    "import pandas as pd"
   ]
  },
  {
   "cell_type": "code",
   "execution_count": 57,
   "metadata": {},
   "outputs": [],
   "source": [
    "Data = pd.read_csv(r\"C:\\Users\\facun\\OneDrive\\.vscode\\Proyecto 19-01.remplazo\\Todo el proyecto\\Data Posición\\Delanteros.csv\")\n",
    "pd.set_option('display.max_columns', None)"
   ]
  },
  {
   "cell_type": "code",
   "execution_count": 58,
   "metadata": {},
   "outputs": [],
   "source": [
    "import pandas as pd\n",
    "from sklearn.neighbors import NearestNeighbors\n",
    "from sklearn.preprocessing import StandardScaler\n",
    "import unicodedata\n",
    "import matplotlib.pyplot as plt\n",
    "import plotly.graph_objects as go\n",
    "\n"
   ]
  },
  {
   "cell_type": "markdown",
   "metadata": {},
   "source": []
  },
  {
   "cell_type": "markdown",
   "metadata": {},
   "source": [
    "PRUEBAS "
   ]
  },
  {
   "cell_type": "markdown",
   "metadata": {},
   "source": [
    "Caracteristicas de Delanteros\n",
    "Big chances missed\tGoals\tHeaded goals\tTotal shots\t  Assists\t Big chances created"
   ]
  },
  {
   "cell_type": "code",
   "execution_count": 59,
   "metadata": {},
   "outputs": [
    {
     "name": "stdout",
     "output_type": "stream",
     "text": [
      "0.16380228136882127\n",
      "0.0\n",
      "1.0\n",
      "----------------------------------------------------------------------------------------------------\n",
      "0.18639075753144194\n",
      "0.0\n",
      "1.04\n",
      "----------------------------------------------------------------------------------------------------\n",
      "0.030450424100614215\n",
      "0.0\n",
      "0.43\n",
      "----------------------------------------------------------------------------------------------------\n",
      "1.40068733547821\n",
      "0.0\n",
      "5.5\n",
      "0.07359169347762504\n",
      "0.0\n",
      "0.86\n",
      "0.1062971629131325\n",
      "0.0\n",
      "0.94\n"
     ]
    }
   ],
   "source": [
    "#Variables para el gráfico nº2\n",
    "\n",
    "Missed_media = Data[\"Big chances missed\"].mean()\n",
    "Missed_min = Data[\"Big chances missed\"].min()\n",
    "Missed_max = Data[\"Big chances missed\"].max()\n",
    "print(Missed_media)\n",
    "print(Missed_min)\n",
    "print(Missed_max)\n",
    "print(\"-\"*100)\n",
    "Goals_media = Data[\"Goals\"].mean()\n",
    "Goals_min = Data[\"Goals\"].min()\n",
    "Goals_max = Data[\"Goals\"].max()\n",
    "print(Goals_media)\n",
    "print(Goals_min)\n",
    "print(Goals_max )\n",
    "print(\"-\"*100)\n",
    "Headed_goals_media = Data[\"Headed goals\"].mean()\n",
    "Headed_goals_min = Data[\"Headed goals\"].min()\n",
    "Headed_goals_max = Data[\"Headed goals\"].max()\n",
    "print(Headed_goals_media)\n",
    "print(Headed_goals_min)\n",
    "print(Headed_goals_max)\n",
    "print(\"-\"*100)\n",
    "Total_shots_media = Data[\"Total shots\"].mean()\n",
    "Total_shots_min = Data[\"Total shots\"].min()\n",
    "Total_shots_max = Data[\"Total shots\"].max()\n",
    "print(Total_shots_media)\n",
    "print(Total_shots_min)\n",
    "print(Total_shots_max)\n",
    "Assists_media = Data[\"Assists\"].mean()\n",
    "Assists_min = Data[\"Assists\"].min()\n",
    "Assists_max = Data[\"Assists\"].max()\n",
    "print(Assists_media)\n",
    "print(Assists_min)\n",
    "print(Assists_max)\n",
    "Big_chances_created_media = Data[\"Big chances created\"].mean()\n",
    "Big_chances_created_min = Data[\"Big chances created\"].min()\n",
    "Big_chances_created_max = Data[\"Big chances created\"].max()\n",
    "print(Big_chances_created_media)\n",
    "print(Big_chances_created_min)\n",
    "print(Big_chances_created_max)"
   ]
  },
  {
   "cell_type": "code",
   "execution_count": 60,
   "metadata": {},
   "outputs": [],
   "source": [
    "\n",
    "Columna_habilidades = Data.columns.drop([\"Name\", \"League\"])\n",
    "features = Data[Columna_habilidades]\n",
    "# Crea un objeto StandardScaler\n",
    "scaler = StandardScaler()\n",
    "# Ajusta el escalador a tus datos y luego transforma tus datos\n",
    "features_scaled = scaler.fit_transform(features)\n",
    "# Inicializa el modelo NearestNeighbors\n",
    "model = NearestNeighbors(n_neighbors=6)  # Buscamos 6 vecinos porque uno de ellos será el jugador mismo\n",
    "# Ajusta el modelo a tus datos\n",
    "model.fit(features_scaled)\n",
    "caracteristicas_grafico = ['Big chances missed','Big chances created','Headed goals','Total shots','Accurate long balls %','Goals','Was fouled','Assists','Fouls','Set piece conversion %','Accurate passes %','Successful dribbles %','Total duels won %','Accurate final third passes','Aerial duels won %']\n",
    "\n",
    "#caracteristicas_grafico = ['Big chances missed','Goals','Headed goals',\t'Total shots','Assists','Big chances created']\n",
    "\n",
    "# Función para normalizar nombres (ignorar mayúsculas y acentos)\n",
    "def normalizar_nombre(nombre):\n",
    "    nombre = nombre.lower()\n",
    "    nombre = unicodedata.normalize('NFD', nombre)\n",
    "    nombre = nombre.encode('ascii', 'ignore').decode(\"utf-8\")\n",
    "    return nombre\n",
    "\n",
    "def buscar_jugadores_similares(nombre, caracteristicas_grafico):\n",
    "    # Normaliza el nombre que buscas\n",
    "    nombre_normalizado = normalizar_nombre(nombre)\n",
    "    # Aplica la normalización a los nombres en el conjunto de datos\n",
    "    Data['Name_Normalized'] = Data['Name'].apply(normalizar_nombre)\n",
    "    # Busca el jugador con el nombre normalizado\n",
    "    jugador = Data[Data['Name_Normalized'] == nombre_normalizado]\n",
    "    if len(jugador) == 0:\n",
    "        return 'Jugador no encontrado'\n",
    "    else:\n",
    "        jugador_scaled = scaler.transform(jugador[features.columns])\n",
    "        distancias, indices = model.kneighbors(jugador_scaled)\n",
    "        jugadores_similares = Data.iloc[indices[0]]  # No Excluimos el primer resultado porque será el jugador mismo\n",
    "        display(jugadores_similares)\n",
    "        # Escala todas las características de los jugadores similares\n",
    "        jugadores_similares_scaled = scaler.transform(jugadores_similares[features.columns])\n",
    "        # Define una lista de colores\n",
    "        colores = ['blue', 'green', 'red', 'cyan', 'magenta', 'yellow', 'black']\n",
    "        # Crea un gráfico de radar para cada jugador similar\n",
    "        fig = go.Figure()\n",
    "        for i, row in enumerate(jugadores_similares_scaled):\n",
    "            color = colores[i % len(colores)]  # Elige un color de la lista\n",
    "            fig.add_trace(go.Scatterpolar(\n",
    "                r=row[features.columns.isin(caracteristicas_grafico)],\n",
    "                theta=caracteristicas_grafico,\n",
    "                fill='toself',\n",
    "                name=jugadores_similares.iloc[i]['Name'],\n",
    "                line=dict(color=color)\n",
    "            ))\n",
    "        fig.update_layout(\n",
    "            autosize=False,\n",
    "            width=800,\n",
    "            height=800,\n",
    "            polar=dict(\n",
    "                radialaxis=dict(\n",
    "                    visible=True,\n",
    "                    range=[-2, 7]  # Ajusta este rango según tus datos\n",
    "                )),\n",
    "            showlegend=True\n",
    "        )\n",
    "        fig.show()\n",
    "       # Configura una cuadrícula de subplots con 3filas y 2 columnas\n",
    "        fig, axs = plt.subplots(3, 2, figsize=(20, 12))  # Ajusta el tamaño según sea necesario\n",
    "        # Gráfico de dispersión para la media Big chances missed\n",
    "        for i, name in enumerate(jugadores_similares['Name']):\n",
    "            axs[0, 0].scatter(i, jugadores_similares.loc[jugadores_similares['Name'] == name, 'Big chances missed'], color=colores[i % len(colores)], marker='o')\n",
    "        for line in [Missed_max, Missed_media, Missed_min]:\n",
    "            axs[0, 0].axhline(y=line, color='r', linestyle='--')\n",
    "        axs[0, 0].set_title('Comparativa de Big chances missed de los jugadores similares')\n",
    "        axs[0, 0].set_xticks(range(len(jugadores_similares)))\n",
    "        axs[0, 0].set_xticklabels(jugadores_similares['Name'], rotation=45)\n",
    "        axs[0, 0].set_xlabel('Jugadores')\n",
    "        axs[0, 0].set_ylabel('Big chances missed')\n",
    "        # Gráfico de dispersión para la media Goals\n",
    "        for i, name in enumerate(jugadores_similares['Name']):\n",
    "            axs[0, 1].scatter(i, jugadores_similares.loc[jugadores_similares['Name'] == name, 'Goals'], color=colores[i % len(colores)], marker='o')\n",
    "        for line in [Goals_max, Goals_media, Goals_min]:\n",
    "            axs[0, 1].axhline(y=line, color='r', linestyle='--')\n",
    "        axs[0, 1].set_title('Comparativa de Goals de los jugadores similares')\n",
    "        axs[0, 1].set_xticks(range(len(jugadores_similares)))\n",
    "        axs[0, 1].set_xticklabels(jugadores_similares['Name'], rotation=45)\n",
    "        axs[0, 1].set_xlabel('Jugadores')\n",
    "        axs[0, 1].set_ylabel('Goals')\n",
    "        # Gráfico de dispersión para la media Headed goals\n",
    "        for i, name in enumerate(jugadores_similares['Name']):\n",
    "            axs[1, 0].scatter(i, jugadores_similares.loc[jugadores_similares['Name'] == name, 'Headed goals'], color=colores[i % len(colores)], marker='o')\n",
    "        for line in [Headed_goals_max, Headed_goals_media, Headed_goals_min]:\n",
    "            axs[1, 0].axhline(y=line, color='r', linestyle='--')\n",
    "        axs[1, 0].set_title('Comparativa de Headed goals de los jugadores similares')\n",
    "        axs[1, 0].set_xticks(range(len(jugadores_similares)))\n",
    "        axs[1, 0].set_xticklabels(jugadores_similares['Name'], rotation=45)\n",
    "        axs[1, 0].set_xlabel('Jugadores')\n",
    "        axs[1, 0].set_ylabel('Headed goals')\n",
    "        # Gráfico de dispersión para la media Total shots\n",
    "        for i, name in enumerate(jugadores_similares['Name']):\n",
    "            axs[1, 1].scatter(i, jugadores_similares.loc[jugadores_similares['Name'] == name, 'Total shots'], color=colores[i % len(colores)], marker='o')\n",
    "        for line in [Total_shots_max, Total_shots_media, Total_shots_min]:\n",
    "            axs[1, 1].axhline(y=line, color='r', linestyle='--')\n",
    "        axs[1, 1].set_title('Comparativa de Total shots de los jugadores similares')\n",
    "        axs[1, 1].set_xticks(range(len(jugadores_similares)))\n",
    "        axs[1, 1].set_xticklabels(jugadores_similares['Name'], rotation=45)\n",
    "        axs[1, 1].set_xlabel('Jugadores')\n",
    "        axs[1, 1].set_ylabel('Total shots')\n",
    "        # Gráfico de dispersión para la media Assists\n",
    "        for i, name in enumerate(jugadores_similares['Name']):\n",
    "            axs[2, 0].scatter(i, jugadores_similares.loc[jugadores_similares['Name'] == name, 'Assists'], color=colores[i % len(colores)], marker='o')\n",
    "        for line in [Assists_max, Assists_media, Assists_min]:\n",
    "            axs[2, 0].axhline(y=line, color='r', linestyle='--')\n",
    "        axs[2, 0].set_title('Comparativa de Assists de los jugadores similares')\n",
    "        axs[2, 0].set_xticks(range(len(jugadores_similares)))\n",
    "        axs[2, 0].set_xticklabels(jugadores_similares['Name'], rotation=45)\n",
    "        axs[2, 0].set_xlabel('Jugadores')\n",
    "        axs[2, 0].set_ylabel('Assists')\n",
    "        # Gráfico de dispersión para la media Big chances created\n",
    "        for i, name in enumerate(jugadores_similares['Name']):\n",
    "            axs[2, 1].scatter(i, jugadores_similares.loc[jugadores_similares['Name'] == name, 'Big chances created'], color=colores[i % len(colores)], marker='o')\n",
    "        for line in [Big_chances_created_max, Big_chances_created_media, Big_chances_created_min]:\n",
    "            axs[2, 1].axhline(y=line, color='r', linestyle='--')\n",
    "        axs[2, 1].set_title('Comparativa de Big chances created de los jugadores similares')\n",
    "        axs[2, 1].set_xticks(range(len(jugadores_similares)))\n",
    "        axs[2, 1].set_xticklabels(jugadores_similares['Name'], rotation=45)\n",
    "        axs[2, 1].set_xlabel('Jugadores')\n",
    "        axs[2, 1].set_ylabel('Big chances created')\n",
    "        # Ajusta el layout para que no haya superposición de elementos\n",
    "        plt.tight_layout()\n",
    "        plt.show()\n",
    "        return\n",
    "        "
   ]
  },
  {
   "cell_type": "code",
   "execution_count": 61,
   "metadata": {},
   "outputs": [
    {
     "data": {
      "text/html": [
       "<div>\n",
       "<style scoped>\n",
       "    .dataframe tbody tr th:only-of-type {\n",
       "        vertical-align: middle;\n",
       "    }\n",
       "\n",
       "    .dataframe tbody tr th {\n",
       "        vertical-align: top;\n",
       "    }\n",
       "\n",
       "    .dataframe thead th {\n",
       "        text-align: right;\n",
       "    }\n",
       "</style>\n",
       "<table border=\"1\" class=\"dataframe\">\n",
       "  <thead>\n",
       "    <tr style=\"text-align: right;\">\n",
       "      <th></th>\n",
       "      <th>Name</th>\n",
       "      <th>Goals</th>\n",
       "      <th>Big chances missed</th>\n",
       "      <th>Successful dribbles %</th>\n",
       "      <th>Total shots</th>\n",
       "      <th>Headed goals</th>\n",
       "      <th>Set piece conversion %</th>\n",
       "      <th>Interceptions</th>\n",
       "      <th>Big chances created</th>\n",
       "      <th>Assists</th>\n",
       "      <th>Accurate passes %</th>\n",
       "      <th>Aerial duels won %</th>\n",
       "      <th>Total duels won %</th>\n",
       "      <th>Was fouled</th>\n",
       "      <th>Appearances</th>\n",
       "      <th>Age Range</th>\n",
       "      <th>Position</th>\n",
       "      <th>League</th>\n",
       "      <th>Level</th>\n",
       "      <th>Name_Normalized</th>\n",
       "    </tr>\n",
       "  </thead>\n",
       "  <tbody>\n",
       "    <tr>\n",
       "      <th>336</th>\n",
       "      <td>Kylian Mbappé</td>\n",
       "      <td>0.85</td>\n",
       "      <td>0.82</td>\n",
       "      <td>40.44</td>\n",
       "      <td>4.38</td>\n",
       "      <td>0.03</td>\n",
       "      <td>0.00</td>\n",
       "      <td>0.15</td>\n",
       "      <td>0.50</td>\n",
       "      <td>0.15</td>\n",
       "      <td>82.95</td>\n",
       "      <td>61.54</td>\n",
       "      <td>41.77</td>\n",
       "      <td>1.18</td>\n",
       "      <td>34</td>\n",
       "      <td>2</td>\n",
       "      <td>4</td>\n",
       "      <td>Francia Liga 1</td>\n",
       "      <td>2</td>\n",
       "      <td>kylian mbappe</td>\n",
       "    </tr>\n",
       "    <tr>\n",
       "      <th>3221</th>\n",
       "      <td>Robert Lewandowski</td>\n",
       "      <td>0.68</td>\n",
       "      <td>0.79</td>\n",
       "      <td>53.57</td>\n",
       "      <td>3.97</td>\n",
       "      <td>0.03</td>\n",
       "      <td>0.00</td>\n",
       "      <td>0.06</td>\n",
       "      <td>0.32</td>\n",
       "      <td>0.21</td>\n",
       "      <td>78.08</td>\n",
       "      <td>53.06</td>\n",
       "      <td>47.23</td>\n",
       "      <td>1.35</td>\n",
       "      <td>34</td>\n",
       "      <td>3</td>\n",
       "      <td>4</td>\n",
       "      <td>España La Liga 1</td>\n",
       "      <td>1</td>\n",
       "      <td>robert lewandowski</td>\n",
       "    </tr>\n",
       "    <tr>\n",
       "      <th>3220</th>\n",
       "      <td>Karim Benzema</td>\n",
       "      <td>0.79</td>\n",
       "      <td>0.75</td>\n",
       "      <td>47.62</td>\n",
       "      <td>4.46</td>\n",
       "      <td>0.04</td>\n",
       "      <td>0.69</td>\n",
       "      <td>0.08</td>\n",
       "      <td>0.58</td>\n",
       "      <td>0.13</td>\n",
       "      <td>87.04</td>\n",
       "      <td>51.85</td>\n",
       "      <td>37.98</td>\n",
       "      <td>0.25</td>\n",
       "      <td>24</td>\n",
       "      <td>3</td>\n",
       "      <td>4</td>\n",
       "      <td>España La Liga 1</td>\n",
       "      <td>1</td>\n",
       "      <td>karim benzema</td>\n",
       "    </tr>\n",
       "    <tr>\n",
       "      <th>1728</th>\n",
       "      <td>Mehdi Taremi</td>\n",
       "      <td>0.67</td>\n",
       "      <td>0.52</td>\n",
       "      <td>50.00</td>\n",
       "      <td>2.91</td>\n",
       "      <td>0.06</td>\n",
       "      <td>0.00</td>\n",
       "      <td>0.24</td>\n",
       "      <td>0.33</td>\n",
       "      <td>0.21</td>\n",
       "      <td>75.03</td>\n",
       "      <td>52.14</td>\n",
       "      <td>49.52</td>\n",
       "      <td>1.27</td>\n",
       "      <td>33</td>\n",
       "      <td>3</td>\n",
       "      <td>4</td>\n",
       "      <td>Liga Portugal</td>\n",
       "      <td>2</td>\n",
       "      <td>mehdi taremi</td>\n",
       "    </tr>\n",
       "    <tr>\n",
       "      <th>1467</th>\n",
       "      <td>Julián Quiñones</td>\n",
       "      <td>0.50</td>\n",
       "      <td>0.85</td>\n",
       "      <td>35.71</td>\n",
       "      <td>3.15</td>\n",
       "      <td>0.05</td>\n",
       "      <td>0.00</td>\n",
       "      <td>0.40</td>\n",
       "      <td>0.45</td>\n",
       "      <td>0.25</td>\n",
       "      <td>78.96</td>\n",
       "      <td>38.10</td>\n",
       "      <td>39.49</td>\n",
       "      <td>1.70</td>\n",
       "      <td>20</td>\n",
       "      <td>2</td>\n",
       "      <td>4</td>\n",
       "      <td>Mexico Liga MX Apertura</td>\n",
       "      <td>3</td>\n",
       "      <td>julian quinones</td>\n",
       "    </tr>\n",
       "    <tr>\n",
       "      <th>63</th>\n",
       "      <td>Valentin Castellanos</td>\n",
       "      <td>0.76</td>\n",
       "      <td>0.71</td>\n",
       "      <td>48.39</td>\n",
       "      <td>4.76</td>\n",
       "      <td>0.06</td>\n",
       "      <td>0.00</td>\n",
       "      <td>0.35</td>\n",
       "      <td>0.35</td>\n",
       "      <td>0.12</td>\n",
       "      <td>64.23</td>\n",
       "      <td>49.48</td>\n",
       "      <td>41.10</td>\n",
       "      <td>1.18</td>\n",
       "      <td>17</td>\n",
       "      <td>2</td>\n",
       "      <td>4</td>\n",
       "      <td>EEUU MLS</td>\n",
       "      <td>4</td>\n",
       "      <td>valentin castellanos</td>\n",
       "    </tr>\n",
       "  </tbody>\n",
       "</table>\n",
       "</div>"
      ],
      "text/plain": [
       "                      Name  Goals  Big chances missed  Successful dribbles %  \\\n",
       "336          Kylian Mbappé   0.85                0.82                  40.44   \n",
       "3221    Robert Lewandowski   0.68                0.79                  53.57   \n",
       "3220         Karim Benzema   0.79                0.75                  47.62   \n",
       "1728          Mehdi Taremi   0.67                0.52                  50.00   \n",
       "1467       Julián Quiñones   0.50                0.85                  35.71   \n",
       "63    Valentin Castellanos   0.76                0.71                  48.39   \n",
       "\n",
       "      Total shots  Headed goals  Set piece conversion %  Interceptions  \\\n",
       "336          4.38          0.03                    0.00           0.15   \n",
       "3221         3.97          0.03                    0.00           0.06   \n",
       "3220         4.46          0.04                    0.69           0.08   \n",
       "1728         2.91          0.06                    0.00           0.24   \n",
       "1467         3.15          0.05                    0.00           0.40   \n",
       "63           4.76          0.06                    0.00           0.35   \n",
       "\n",
       "      Big chances created  Assists  Accurate passes %  Aerial duels won %  \\\n",
       "336                  0.50     0.15              82.95               61.54   \n",
       "3221                 0.32     0.21              78.08               53.06   \n",
       "3220                 0.58     0.13              87.04               51.85   \n",
       "1728                 0.33     0.21              75.03               52.14   \n",
       "1467                 0.45     0.25              78.96               38.10   \n",
       "63                   0.35     0.12              64.23               49.48   \n",
       "\n",
       "      Total duels won %  Was fouled  Appearances  Age Range  Position  \\\n",
       "336               41.77        1.18           34          2         4   \n",
       "3221              47.23        1.35           34          3         4   \n",
       "3220              37.98        0.25           24          3         4   \n",
       "1728              49.52        1.27           33          3         4   \n",
       "1467              39.49        1.70           20          2         4   \n",
       "63                41.10        1.18           17          2         4   \n",
       "\n",
       "                       League  Level       Name_Normalized  \n",
       "336            Francia Liga 1      2         kylian mbappe  \n",
       "3221         España La Liga 1      1    robert lewandowski  \n",
       "3220         España La Liga 1      1         karim benzema  \n",
       "1728            Liga Portugal      2          mehdi taremi  \n",
       "1467  Mexico Liga MX Apertura      3       julian quinones  \n",
       "63                   EEUU MLS      4  valentin castellanos  "
      ]
     },
     "metadata": {},
     "output_type": "display_data"
    },
    {
     "data": {
      "application/vnd.plotly.v1+json": {
       "config": {
        "plotlyServerURL": "https://plot.ly"
       },
       "data": [
        {
         "fill": "toself",
         "line": {
          "color": "blue"
         },
         "name": "Kylian Mbappé",
         "r": [
          4.162808376967704,
          4.793614504420486,
          -0.2974382309583045,
          4.0311147004815595,
          -0.009258265823436158,
          -0.139012777607514,
          3.8413854407430654,
          0.9813431970209245,
          1.535924863658571,
          1.7818483188614946,
          -0.08754748317216532,
          0.5488664344687341
         ],
         "theta": [
          "Big chances missed",
          "Big chances created",
          "Headed goals",
          "Total shots",
          "Accurate long balls %",
          "Goals",
          "Was fouled",
          "Assists",
          "Fouls",
          "Set piece conversion %",
          "Accurate passes %",
          "Successful dribbles %",
          "Total duels won %",
          "Accurate final third passes",
          "Aerial duels won %"
         ],
         "type": "scatterpolar"
        },
        {
         "fill": "toself",
         "line": {
          "color": "green"
         },
         "name": "Robert Lewandowski",
         "r": [
          3.096401553801676,
          4.574460382043168,
          0.548007102587637,
          3.476370296888484,
          -0.009258265823436158,
          -0.139012777607514,
          2.08511316074121,
          1.7519477883425922,
          0.9010609430394407,
          1.1368832338303188,
          0.7165310069423,
          0.8645035981519495
         ],
         "theta": [
          "Big chances missed",
          "Big chances created",
          "Headed goals",
          "Total shots",
          "Accurate long balls %",
          "Goals",
          "Was fouled",
          "Assists",
          "Fouls",
          "Set piece conversion %",
          "Accurate passes %",
          "Successful dribbles %",
          "Total duels won %",
          "Accurate final third passes",
          "Aerial duels won %"
         ],
         "type": "scatterpolar"
        },
        {
         "fill": "toself",
         "line": {
          "color": "red"
         },
         "name": "Karim Benzema",
         "r": [
          3.7864294982032236,
          4.282254885540076,
          0.16488450284671133,
          4.139357510938745,
          0.1962872591786945,
          2.251267351996439,
          4.621950898521667,
          0.7244749999137021,
          2.0691062672175526,
          1.0448540176878987,
          -0.6456898783248818,
          -1.1778545197982666
         ],
         "theta": [
          "Big chances missed",
          "Big chances created",
          "Headed goals",
          "Total shots",
          "Accurate long balls %",
          "Goals",
          "Was fouled",
          "Assists",
          "Fouls",
          "Set piece conversion %",
          "Accurate passes %",
          "Successful dribbles %",
          "Total duels won %",
          "Accurate final third passes",
          "Aerial duels won %"
         ],
         "type": "scatterpolar"
        },
        {
         "fill": "toself",
         "line": {
          "color": "cyan"
         },
         "name": "Mehdi Taremi",
         "r": [
          3.0336717406742624,
          2.602073280647301,
          0.31813354274308164,
          2.0421530583307743,
          0.6073783091829557,
          -0.139012777607514,
          2.1826838429635353,
          1.7519477883425922,
          0.5034562288939904,
          1.06691060668071,
          1.0537727179976355,
          0.7159684623010246
         ],
         "theta": [
          "Big chances missed",
          "Big chances created",
          "Headed goals",
          "Total shots",
          "Accurate long balls %",
          "Goals",
          "Was fouled",
          "Assists",
          "Fouls",
          "Set piece conversion %",
          "Accurate passes %",
          "Successful dribbles %",
          "Total duels won %",
          "Accurate final third passes",
          "Aerial duels won %"
         ],
         "type": "scatterpolar"
        },
        {
         "fill": "toself",
         "line": {
          "color": "magenta"
         },
         "name": "Julián Quiñones",
         "r": [
          1.9672649175082337,
          5.012768626797804,
          -0.6020046001641156,
          2.366881489702331,
          0.4018327841808252,
          -0.139012777607514,
          3.353532029631439,
          2.2656841825570373,
          1.0157796802355046,
          -0.0009325293850580222,
          -0.42331652300018435,
          1.5143448174997454
         ],
         "theta": [
          "Big chances missed",
          "Big chances created",
          "Headed goals",
          "Total shots",
          "Accurate long balls %",
          "Goals",
          "Was fouled",
          "Assists",
          "Fouls",
          "Set piece conversion %",
          "Accurate passes %",
          "Successful dribbles %",
          "Total duels won %",
          "Accurate final third passes",
          "Aerial duels won %"
         ],
         "type": "scatterpolar"
        },
        {
         "fill": "toself",
         "line": {
          "color": "yellow"
         },
         "name": "Valentin Castellanos",
         "r": [
          3.5982400588209833,
          3.9900493890369844,
          0.21446507457789013,
          4.545268050153191,
          0.6073783091829557,
          -0.139012777607514,
          2.377825207408186,
          0.5960409013600907,
          -0.9044555457849823,
          0.8645984455742323,
          -0.186216455402329,
          0.5488664344687341
         ],
         "theta": [
          "Big chances missed",
          "Big chances created",
          "Headed goals",
          "Total shots",
          "Accurate long balls %",
          "Goals",
          "Was fouled",
          "Assists",
          "Fouls",
          "Set piece conversion %",
          "Accurate passes %",
          "Successful dribbles %",
          "Total duels won %",
          "Accurate final third passes",
          "Aerial duels won %"
         ],
         "type": "scatterpolar"
        }
       ],
       "layout": {
        "autosize": false,
        "height": 800,
        "polar": {
         "radialaxis": {
          "range": [
           -2,
           7
          ],
          "visible": true
         }
        },
        "showlegend": true,
        "template": {
         "data": {
          "bar": [
           {
            "error_x": {
             "color": "#2a3f5f"
            },
            "error_y": {
             "color": "#2a3f5f"
            },
            "marker": {
             "line": {
              "color": "#E5ECF6",
              "width": 0.5
             },
             "pattern": {
              "fillmode": "overlay",
              "size": 10,
              "solidity": 0.2
             }
            },
            "type": "bar"
           }
          ],
          "barpolar": [
           {
            "marker": {
             "line": {
              "color": "#E5ECF6",
              "width": 0.5
             },
             "pattern": {
              "fillmode": "overlay",
              "size": 10,
              "solidity": 0.2
             }
            },
            "type": "barpolar"
           }
          ],
          "carpet": [
           {
            "aaxis": {
             "endlinecolor": "#2a3f5f",
             "gridcolor": "white",
             "linecolor": "white",
             "minorgridcolor": "white",
             "startlinecolor": "#2a3f5f"
            },
            "baxis": {
             "endlinecolor": "#2a3f5f",
             "gridcolor": "white",
             "linecolor": "white",
             "minorgridcolor": "white",
             "startlinecolor": "#2a3f5f"
            },
            "type": "carpet"
           }
          ],
          "choropleth": [
           {
            "colorbar": {
             "outlinewidth": 0,
             "ticks": ""
            },
            "type": "choropleth"
           }
          ],
          "contour": [
           {
            "colorbar": {
             "outlinewidth": 0,
             "ticks": ""
            },
            "colorscale": [
             [
              0,
              "#0d0887"
             ],
             [
              0.1111111111111111,
              "#46039f"
             ],
             [
              0.2222222222222222,
              "#7201a8"
             ],
             [
              0.3333333333333333,
              "#9c179e"
             ],
             [
              0.4444444444444444,
              "#bd3786"
             ],
             [
              0.5555555555555556,
              "#d8576b"
             ],
             [
              0.6666666666666666,
              "#ed7953"
             ],
             [
              0.7777777777777778,
              "#fb9f3a"
             ],
             [
              0.8888888888888888,
              "#fdca26"
             ],
             [
              1,
              "#f0f921"
             ]
            ],
            "type": "contour"
           }
          ],
          "contourcarpet": [
           {
            "colorbar": {
             "outlinewidth": 0,
             "ticks": ""
            },
            "type": "contourcarpet"
           }
          ],
          "heatmap": [
           {
            "colorbar": {
             "outlinewidth": 0,
             "ticks": ""
            },
            "colorscale": [
             [
              0,
              "#0d0887"
             ],
             [
              0.1111111111111111,
              "#46039f"
             ],
             [
              0.2222222222222222,
              "#7201a8"
             ],
             [
              0.3333333333333333,
              "#9c179e"
             ],
             [
              0.4444444444444444,
              "#bd3786"
             ],
             [
              0.5555555555555556,
              "#d8576b"
             ],
             [
              0.6666666666666666,
              "#ed7953"
             ],
             [
              0.7777777777777778,
              "#fb9f3a"
             ],
             [
              0.8888888888888888,
              "#fdca26"
             ],
             [
              1,
              "#f0f921"
             ]
            ],
            "type": "heatmap"
           }
          ],
          "heatmapgl": [
           {
            "colorbar": {
             "outlinewidth": 0,
             "ticks": ""
            },
            "colorscale": [
             [
              0,
              "#0d0887"
             ],
             [
              0.1111111111111111,
              "#46039f"
             ],
             [
              0.2222222222222222,
              "#7201a8"
             ],
             [
              0.3333333333333333,
              "#9c179e"
             ],
             [
              0.4444444444444444,
              "#bd3786"
             ],
             [
              0.5555555555555556,
              "#d8576b"
             ],
             [
              0.6666666666666666,
              "#ed7953"
             ],
             [
              0.7777777777777778,
              "#fb9f3a"
             ],
             [
              0.8888888888888888,
              "#fdca26"
             ],
             [
              1,
              "#f0f921"
             ]
            ],
            "type": "heatmapgl"
           }
          ],
          "histogram": [
           {
            "marker": {
             "pattern": {
              "fillmode": "overlay",
              "size": 10,
              "solidity": 0.2
             }
            },
            "type": "histogram"
           }
          ],
          "histogram2d": [
           {
            "colorbar": {
             "outlinewidth": 0,
             "ticks": ""
            },
            "colorscale": [
             [
              0,
              "#0d0887"
             ],
             [
              0.1111111111111111,
              "#46039f"
             ],
             [
              0.2222222222222222,
              "#7201a8"
             ],
             [
              0.3333333333333333,
              "#9c179e"
             ],
             [
              0.4444444444444444,
              "#bd3786"
             ],
             [
              0.5555555555555556,
              "#d8576b"
             ],
             [
              0.6666666666666666,
              "#ed7953"
             ],
             [
              0.7777777777777778,
              "#fb9f3a"
             ],
             [
              0.8888888888888888,
              "#fdca26"
             ],
             [
              1,
              "#f0f921"
             ]
            ],
            "type": "histogram2d"
           }
          ],
          "histogram2dcontour": [
           {
            "colorbar": {
             "outlinewidth": 0,
             "ticks": ""
            },
            "colorscale": [
             [
              0,
              "#0d0887"
             ],
             [
              0.1111111111111111,
              "#46039f"
             ],
             [
              0.2222222222222222,
              "#7201a8"
             ],
             [
              0.3333333333333333,
              "#9c179e"
             ],
             [
              0.4444444444444444,
              "#bd3786"
             ],
             [
              0.5555555555555556,
              "#d8576b"
             ],
             [
              0.6666666666666666,
              "#ed7953"
             ],
             [
              0.7777777777777778,
              "#fb9f3a"
             ],
             [
              0.8888888888888888,
              "#fdca26"
             ],
             [
              1,
              "#f0f921"
             ]
            ],
            "type": "histogram2dcontour"
           }
          ],
          "mesh3d": [
           {
            "colorbar": {
             "outlinewidth": 0,
             "ticks": ""
            },
            "type": "mesh3d"
           }
          ],
          "parcoords": [
           {
            "line": {
             "colorbar": {
              "outlinewidth": 0,
              "ticks": ""
             }
            },
            "type": "parcoords"
           }
          ],
          "pie": [
           {
            "automargin": true,
            "type": "pie"
           }
          ],
          "scatter": [
           {
            "fillpattern": {
             "fillmode": "overlay",
             "size": 10,
             "solidity": 0.2
            },
            "type": "scatter"
           }
          ],
          "scatter3d": [
           {
            "line": {
             "colorbar": {
              "outlinewidth": 0,
              "ticks": ""
             }
            },
            "marker": {
             "colorbar": {
              "outlinewidth": 0,
              "ticks": ""
             }
            },
            "type": "scatter3d"
           }
          ],
          "scattercarpet": [
           {
            "marker": {
             "colorbar": {
              "outlinewidth": 0,
              "ticks": ""
             }
            },
            "type": "scattercarpet"
           }
          ],
          "scattergeo": [
           {
            "marker": {
             "colorbar": {
              "outlinewidth": 0,
              "ticks": ""
             }
            },
            "type": "scattergeo"
           }
          ],
          "scattergl": [
           {
            "marker": {
             "colorbar": {
              "outlinewidth": 0,
              "ticks": ""
             }
            },
            "type": "scattergl"
           }
          ],
          "scattermapbox": [
           {
            "marker": {
             "colorbar": {
              "outlinewidth": 0,
              "ticks": ""
             }
            },
            "type": "scattermapbox"
           }
          ],
          "scatterpolar": [
           {
            "marker": {
             "colorbar": {
              "outlinewidth": 0,
              "ticks": ""
             }
            },
            "type": "scatterpolar"
           }
          ],
          "scatterpolargl": [
           {
            "marker": {
             "colorbar": {
              "outlinewidth": 0,
              "ticks": ""
             }
            },
            "type": "scatterpolargl"
           }
          ],
          "scatterternary": [
           {
            "marker": {
             "colorbar": {
              "outlinewidth": 0,
              "ticks": ""
             }
            },
            "type": "scatterternary"
           }
          ],
          "surface": [
           {
            "colorbar": {
             "outlinewidth": 0,
             "ticks": ""
            },
            "colorscale": [
             [
              0,
              "#0d0887"
             ],
             [
              0.1111111111111111,
              "#46039f"
             ],
             [
              0.2222222222222222,
              "#7201a8"
             ],
             [
              0.3333333333333333,
              "#9c179e"
             ],
             [
              0.4444444444444444,
              "#bd3786"
             ],
             [
              0.5555555555555556,
              "#d8576b"
             ],
             [
              0.6666666666666666,
              "#ed7953"
             ],
             [
              0.7777777777777778,
              "#fb9f3a"
             ],
             [
              0.8888888888888888,
              "#fdca26"
             ],
             [
              1,
              "#f0f921"
             ]
            ],
            "type": "surface"
           }
          ],
          "table": [
           {
            "cells": {
             "fill": {
              "color": "#EBF0F8"
             },
             "line": {
              "color": "white"
             }
            },
            "header": {
             "fill": {
              "color": "#C8D4E3"
             },
             "line": {
              "color": "white"
             }
            },
            "type": "table"
           }
          ]
         },
         "layout": {
          "annotationdefaults": {
           "arrowcolor": "#2a3f5f",
           "arrowhead": 0,
           "arrowwidth": 1
          },
          "autotypenumbers": "strict",
          "coloraxis": {
           "colorbar": {
            "outlinewidth": 0,
            "ticks": ""
           }
          },
          "colorscale": {
           "diverging": [
            [
             0,
             "#8e0152"
            ],
            [
             0.1,
             "#c51b7d"
            ],
            [
             0.2,
             "#de77ae"
            ],
            [
             0.3,
             "#f1b6da"
            ],
            [
             0.4,
             "#fde0ef"
            ],
            [
             0.5,
             "#f7f7f7"
            ],
            [
             0.6,
             "#e6f5d0"
            ],
            [
             0.7,
             "#b8e186"
            ],
            [
             0.8,
             "#7fbc41"
            ],
            [
             0.9,
             "#4d9221"
            ],
            [
             1,
             "#276419"
            ]
           ],
           "sequential": [
            [
             0,
             "#0d0887"
            ],
            [
             0.1111111111111111,
             "#46039f"
            ],
            [
             0.2222222222222222,
             "#7201a8"
            ],
            [
             0.3333333333333333,
             "#9c179e"
            ],
            [
             0.4444444444444444,
             "#bd3786"
            ],
            [
             0.5555555555555556,
             "#d8576b"
            ],
            [
             0.6666666666666666,
             "#ed7953"
            ],
            [
             0.7777777777777778,
             "#fb9f3a"
            ],
            [
             0.8888888888888888,
             "#fdca26"
            ],
            [
             1,
             "#f0f921"
            ]
           ],
           "sequentialminus": [
            [
             0,
             "#0d0887"
            ],
            [
             0.1111111111111111,
             "#46039f"
            ],
            [
             0.2222222222222222,
             "#7201a8"
            ],
            [
             0.3333333333333333,
             "#9c179e"
            ],
            [
             0.4444444444444444,
             "#bd3786"
            ],
            [
             0.5555555555555556,
             "#d8576b"
            ],
            [
             0.6666666666666666,
             "#ed7953"
            ],
            [
             0.7777777777777778,
             "#fb9f3a"
            ],
            [
             0.8888888888888888,
             "#fdca26"
            ],
            [
             1,
             "#f0f921"
            ]
           ]
          },
          "colorway": [
           "#636efa",
           "#EF553B",
           "#00cc96",
           "#ab63fa",
           "#FFA15A",
           "#19d3f3",
           "#FF6692",
           "#B6E880",
           "#FF97FF",
           "#FECB52"
          ],
          "font": {
           "color": "#2a3f5f"
          },
          "geo": {
           "bgcolor": "white",
           "lakecolor": "white",
           "landcolor": "#E5ECF6",
           "showlakes": true,
           "showland": true,
           "subunitcolor": "white"
          },
          "hoverlabel": {
           "align": "left"
          },
          "hovermode": "closest",
          "mapbox": {
           "style": "light"
          },
          "paper_bgcolor": "white",
          "plot_bgcolor": "#E5ECF6",
          "polar": {
           "angularaxis": {
            "gridcolor": "white",
            "linecolor": "white",
            "ticks": ""
           },
           "bgcolor": "#E5ECF6",
           "radialaxis": {
            "gridcolor": "white",
            "linecolor": "white",
            "ticks": ""
           }
          },
          "scene": {
           "xaxis": {
            "backgroundcolor": "#E5ECF6",
            "gridcolor": "white",
            "gridwidth": 2,
            "linecolor": "white",
            "showbackground": true,
            "ticks": "",
            "zerolinecolor": "white"
           },
           "yaxis": {
            "backgroundcolor": "#E5ECF6",
            "gridcolor": "white",
            "gridwidth": 2,
            "linecolor": "white",
            "showbackground": true,
            "ticks": "",
            "zerolinecolor": "white"
           },
           "zaxis": {
            "backgroundcolor": "#E5ECF6",
            "gridcolor": "white",
            "gridwidth": 2,
            "linecolor": "white",
            "showbackground": true,
            "ticks": "",
            "zerolinecolor": "white"
           }
          },
          "shapedefaults": {
           "line": {
            "color": "#2a3f5f"
           }
          },
          "ternary": {
           "aaxis": {
            "gridcolor": "white",
            "linecolor": "white",
            "ticks": ""
           },
           "baxis": {
            "gridcolor": "white",
            "linecolor": "white",
            "ticks": ""
           },
           "bgcolor": "#E5ECF6",
           "caxis": {
            "gridcolor": "white",
            "linecolor": "white",
            "ticks": ""
           }
          },
          "title": {
           "x": 0.05
          },
          "xaxis": {
           "automargin": true,
           "gridcolor": "white",
           "linecolor": "white",
           "ticks": "",
           "title": {
            "standoff": 15
           },
           "zerolinecolor": "white",
           "zerolinewidth": 2
          },
          "yaxis": {
           "automargin": true,
           "gridcolor": "white",
           "linecolor": "white",
           "ticks": "",
           "title": {
            "standoff": 15
           },
           "zerolinecolor": "white",
           "zerolinewidth": 2
          }
         }
        },
        "width": 800
       }
      }
     },
     "metadata": {},
     "output_type": "display_data"
    },
    {
     "data": {
      "image/png": "[encoded data removed]",
      "text/plain": [
       "<Figure size 2000x1200 with 6 Axes>"
      ]
     },
     "metadata": {},
     "output_type": "display_data"
    }
   ],
   "source": [
    "buscar_jugadores_similares('Kylian Mbappe', caracteristicas_grafico)"
   ]
  }
 ],
 "metadata": {
  "kernelspec": {
   "display_name": "upp",
   "language": "python",
   "name": "python3"
  },
  "language_info": {
   "codemirror_mode": {
    "name": "ipython",
    "version": 3
   },
   "file_extension": ".py",
   "mimetype": "text/x-python",
   "name": "python",
   "nbconvert_exporter": "python",
   "pygments_lexer": "ipython3",
   "version": "3.11.6"
  }
 },
 "nbformat": 4,
 "nbformat_minor": 2
}
